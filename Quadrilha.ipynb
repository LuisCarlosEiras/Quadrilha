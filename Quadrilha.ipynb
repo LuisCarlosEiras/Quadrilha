{
 "cells": [
  {
   "cell_type": "code",
   "execution_count": 3,
   "id": "54ddeb32",
   "metadata": {},
   "outputs": [
    {
     "name": "stdout",
     "output_type": "stream",
     "text": [
      "Warning: When  cdn_resources is 'local' jupyter notebook has issues displaying graphics on chrome/safari. Use cdn_resources='in_line' or cdn_resources='remote' if you have issues viewing graphics in a notebook.\n",
      "grafo.html\n"
     ]
    },
    {
     "data": {
      "text/html": [
       "\n",
       "        <iframe\n",
       "            width=\"100%\"\n",
       "            height=\"600px\"\n",
       "            src=\"grafo.html\"\n",
       "            frameborder=\"0\"\n",
       "            allowfullscreen\n",
       "            \n",
       "        ></iframe>\n",
       "        "
      ],
      "text/plain": [
       "<IPython.lib.display.IFrame at 0x1f52a6db790>"
      ]
     },
     "execution_count": 3,
     "metadata": {},
     "output_type": "execute_result"
    }
   ],
   "source": [
    "from pyvis.network import Network\n",
    "import networkx as nx\n",
    "\n",
    "# Criação do grafo direcionado\n",
    "G = nx.DiGraph()\n",
    "\n",
    "# Adicionando as arestas ao grafo\n",
    "G.add_edge(\"João\", \"Teresa\", action=\"amava\")\n",
    "G.add_edge(\"Teresa\", \"Raimundo\", action=\"amava\")\n",
    "G.add_edge(\"Raimundo\", \"Maria\", action=\"amava\")\n",
    "G.add_edge(\"Maria\", \"Joaquim\", action=\"amava\")\n",
    "G.add_edge(\"Joaquim\", \"Lili\", action=\"amava\")\n",
    "G.add_edge(\"Lili\", \"ninguém\", action=\"amava\")\n",
    "G.add_edge(\"João\", \"Estados Unidos\", action=\"foi pra\")\n",
    "G.add_edge(\"Teresa\", \"convento\", action=\"foi para\")\n",
    "G.add_edge(\"Raimundo\", \"desastre\", action=\"morreu de\")\n",
    "G.add_edge(\"Maria\", \"tia\", action=\"ficou para\")\n",
    "G.add_edge(\"Joaquim\", \"suicídio\", action=\"cometeu\")\n",
    "G.add_edge(\"Lili\", \"J. Pinto Fernandes\", action=\"casou com\")\n",
    "G.add_edge(\"J. Pinto Fernandes\", \"história\", action=\"que não tinha entrado na\")\n",
    "G.add_edge(\"Quadrilha\",\"Drummond\", action=\"autor\")\n",
    "\n",
    "# Criação do grafo interativo\n",
    "net = Network(notebook=True)\n",
    "net.from_nx(G)\n",
    "\n",
    "# Configuração das arestas para mostrar a ação quando o mouse passa por cima\n",
    "for edge in net.edges:\n",
    "    edge['title'] = edge['action']\n",
    "    edge['arrows'] = 'to' # Adicionando seta nas arestas\n",
    "# cdn_resources='in_line'\n",
    "# Mostrando o grafo\n",
    "net.show(\"grafo.html\")\n",
    "\n"
   ]
  },
  {
   "cell_type": "code",
   "execution_count": 13,
   "id": "92998495",
   "metadata": {},
   "outputs": [
    {
     "name": "stdout",
     "output_type": "stream",
     "text": [
      "Warning: When  cdn_resources is 'local' jupyter notebook has issues displaying graphics on chrome/safari. Use cdn_resources='in_line' or cdn_resources='remote' if you have issues viewing graphics in a notebook.\n",
      "grafo.html\n"
     ]
    },
    {
     "data": {
      "text/html": [
       "\n",
       "        <iframe\n",
       "            width=\"100%\"\n",
       "            height=\"600px\"\n",
       "            src=\"grafo.html\"\n",
       "            frameborder=\"0\"\n",
       "            allowfullscreen\n",
       "            \n",
       "        ></iframe>\n",
       "        "
      ],
      "text/plain": [
       "<IPython.lib.display.IFrame at 0x22089f24b10>"
      ]
     },
     "execution_count": 13,
     "metadata": {},
     "output_type": "execute_result"
    }
   ],
   "source": [
    "from pyvis.network import Network\n",
    "import networkx as nx\n",
    "\n",
    "# Criação do grafo direcionado\n",
    "G = nx.DiGraph()\n",
    "\n",
    "# Adicionando as arestas ao grafo\n",
    "G.add_edge(\"João\", \"Teresa\", action=\"amava\")\n",
    "G.add_edge(\"Teresa\", \"Raimundo\", action=\"amava\")\n",
    "G.add_edge(\"Raimundo\", \"Maria\", action=\"amava\")\n",
    "G.add_edge(\"Maria\", \"Joaquim\", action=\"amava\")\n",
    "G.add_edge(\"Joaquim\", \"Lili\", action=\"amava\")\n",
    "G.add_edge(\"Lili\", \"ninguém\", action=\"amava\")\n",
    "G.add_edge(\"João\", \"Estados Unidos\", action=\"foi pra\")\n",
    "G.add_edge(\"Teresa\", \"convento\", action=\"foi para\")\n",
    "G.add_edge(\"Raimundo\", \"desastre\", action=\"morreu de\")\n",
    "G.add_edge(\"Maria\", \"tia\", action=\"ficou para\")\n",
    "G.add_edge(\"Joaquim\", \"suicídio\", action=\"cometeu\")\n",
    "G.add_edge(\"Lili\", \"J.PintoFernandes\", action=\"casou com\")\n",
    "\n",
    "# Criação do grafo interativo\n",
    "net = Network(notebook=True)\n",
    "net.from_nx(G)\n",
    "\n",
    "# Configuração das arestas para mostrar a ação quando o mouse passa por cima\n",
    "for edge in net.edges:\n",
    "    edge['title'] = edge['action']\n",
    "    edge['arrows'] = 'to'  # Adicionando seta nas arestas\n",
    "    \n",
    "cdn_resources='in_line'\n",
    "\n",
    "# Adicionando o título ao grafo\n",
    "net.set_options('{\"title\": \"Quadrilha\"}')\n",
    "\n",
    "# Mostrando o grafo\n",
    "net.show(\"grafo.html\")\n"
   ]
  },
  {
   "cell_type": "code",
   "execution_count": null,
   "id": "16210049",
   "metadata": {},
   "outputs": [],
   "source": []
  },
  {
   "cell_type": "code",
   "execution_count": null,
   "id": "690a5e81",
   "metadata": {},
   "outputs": [],
   "source": []
  }
 ],
 "metadata": {
  "kernelspec": {
   "display_name": "Python 3 (ipykernel)",
   "language": "python",
   "name": "python3"
  },
  "language_info": {
   "codemirror_mode": {
    "name": "ipython",
    "version": 3
   },
   "file_extension": ".py",
   "mimetype": "text/x-python",
   "name": "python",
   "nbconvert_exporter": "python",
   "pygments_lexer": "ipython3",
   "version": "3.11.5"
  }
 },
 "nbformat": 4,
 "nbformat_minor": 5
}
