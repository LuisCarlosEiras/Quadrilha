{
 "cells": [
  {
   "cell_type": "code",
   "execution_count": 3,
   "id": "54ddeb32",
   "metadata": {},
   "outputs": [
    {
     "name": "stdout",
     "output_type": "stream",
     "text": [
    
